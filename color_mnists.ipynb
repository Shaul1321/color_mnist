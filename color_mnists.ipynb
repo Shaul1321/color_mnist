{
 "cells": [
  {
   "cell_type": "code",
   "execution_count": 1,
   "metadata": {},
   "outputs": [],
   "source": [
    "from sklearn.datasets import fetch_openml\n",
    "from sklearn.utils import shuffle\n",
    "import matplotlib.pyplot as plt\n",
    "from matplotlib import colors as colors_lib\n",
    "import random\n",
    "import pickle\n",
    "import numpy as np\n",
    "from typing import List\n",
    "from sklearn.linear_model import SGDClassifier\n",
    "from sklearn.svm import SVC\n",
    "from sklearn.neural_network import MLPClassifier\n",
    "import pytorch_lightning as pl\n",
    "from pytorch_lightning import Trainer\n",
    "import torch\n",
    "from torch import nn\n",
    "from torch.utils.data import DataLoader\n",
    "from torch.utils.data import Dataset\n",
    "from typing import List, Dict"
   ]
  },
  {
   "cell_type": "code",
   "execution_count": 2,
   "metadata": {},
   "outputs": [],
   "source": [
    "mnist = fetch_openml('mnist_784')"
   ]
  },
  {
   "cell_type": "code",
   "execution_count": 3,
   "metadata": {},
   "outputs": [],
   "source": [
    "x,y = mnist.data, mnist.target\n",
    "x,y = shuffle(x,y)"
   ]
  },
  {
   "cell_type": "code",
   "execution_count": 4,
   "metadata": {},
   "outputs": [],
   "source": [
    "def show_some_images(images, n = 3, dims = 1):\n",
    "  \n",
    "  for index, image in enumerate(images[:n]):\n",
    "    if dims == 1:\n",
    "        plt.imshow(image.reshape(28,28),cmap='gray')\n",
    "    else:\n",
    "        plt.imshow(image.reshape(28,28,3))\n",
    "    plt.show()"
   ]
  },
  {
   "cell_type": "code",
   "execution_count": 5,
   "metadata": {},
   "outputs": [
    {
     "data": {
      "image/png": "[encoded data removed]",
      "text/plain": [
       "<Figure size 432x288 with 1 Axes>"
      ]
     },
     "metadata": {
      "needs_background": "light"
     },
     "output_type": "display_data"
    },
    {
     "data": {
      "image/png": "[encoded data removed]",
      "text/plain": [
       "<Figure size 432x288 with 1 Axes>"
      ]
     },
     "metadata": {
      "needs_background": "light"
     },
     "output_type": "display_data"
    },
    {
     "data": {
      "image/png": "[encoded data removed]",
      "text/plain": [
       "<Figure size 432x288 with 1 Axes>"
      ]
     },
     "metadata": {
      "needs_background": "light"
     },
     "output_type": "display_data"
    }
   ],
   "source": [
    "show_some_images(x)"
   ]
  },
  {
   "cell_type": "code",
   "execution_count": 6,
   "metadata": {},
   "outputs": [],
   "source": [
    "np.save(\"mnist_x.npy\", x)\n",
    "np.save(\"mnist_y.npy\", y)\n",
    "x_3d = np.stack([x,x,x])\n",
    "x_3d = np.swapaxes(x_3d, 0, 2)\n",
    "x_3d = np.swapaxes(x_3d, 0, 1)\n",
    "x_3d /= 255."
   ]
  },
  {
   "cell_type": "code",
   "execution_count": 7,
   "metadata": {},
   "outputs": [
    {
     "data": {
      "text/plain": [
       "(70000, 784, 3)"
      ]
     },
     "execution_count": 7,
     "metadata": {},
     "output_type": "execute_result"
    }
   ],
   "source": [
    "x_3d.shape"
   ]
  },
  {
   "cell_type": "code",
   "execution_count": 14,
   "metadata": {},
   "outputs": [],
   "source": [
    "def colorize(x, colors: List[str], threshold: float):\n",
    "    \n",
    "    x_copy = x.copy().reshape(x.shape[0], 28, 28, x.shape[-1])\n",
    "    x_colored = x_copy.copy()\n",
    "\n",
    "    color_strings = []\n",
    "    \n",
    "    for i,img in enumerate(x_colored):\n",
    "        color_str = random.choice(colors)\n",
    "        color_background_str = random.choice([x for x in colors if x != color_str])\n",
    "        #print(color_str, color_background_str)\n",
    "        \n",
    "        color = np.array(colors_lib.to_rgb(color_str))\n",
    "        color_background = np.array(colors_lib.to_rgb(color_background_str))\n",
    "        color_strings.append((color_str, color))\n",
    "\n",
    "        color_mask = np.zeros_like(x_colored[0])\n",
    "        color_mask[:, :] = color\n",
    "        idx = (img > threshold)[:,:,0]\n",
    "        x_colored[i][idx] = color*(1 - 0.6*x_colored[i][idx])\n",
    "\n",
    "        #idx_background = (img < threshold)[:,:,0]\n",
    "        #x_colored[i][idx_background] = color_background*(1 - 0.6*x_colored[i][idx_background])\n",
    "    return x_colored, color_strings"
   ]
  },
  {
   "cell_type": "code",
   "execution_count": 26,
   "metadata": {},
   "outputs": [
    {
     "name": "stdout",
     "output_type": "stream",
     "text": [
      "['aliceblue', 'antiquewhite', 'aqua', 'aquamarine', 'azure', 'beige', 'bisque', 'black', 'blanchedalmond', 'blue']\n"
     ]
    }
   ],
   "source": [
    "colors = np.random.rand(25) # [\"blue\", \"red\", \"green\", \"yellow\", \"cyan\", \"orange\", \"purple\", \"lime\"]\n",
    "colors = list(colors_lib.CSS4_COLORS.keys())\n",
    "print(colors[:10])\n",
    "x_colored, color_strings = colorize(x_3d[:], colors = colors, threshold = 0.1)"
   ]
  },
  {
   "cell_type": "code",
   "execution_count": 27,
   "metadata": {},
   "outputs": [
    {
     "data": {
      "image/png": "[encoded data removed]",
      "text/plain": [
       "<Figure size 432x288 with 1 Axes>"
      ]
     },
     "metadata": {
      "needs_background": "light"
     },
     "output_type": "display_data"
    },
    {
     "data": {
      "image/png": "[encoded data removed]",
      "text/plain": [
       "<Figure size 432x288 with 1 Axes>"
      ]
     },
     "metadata": {
      "needs_background": "light"
     },
     "output_type": "display_data"
    },
    {
     "data": {
      "image/png": "[encoded data removed]",
      "text/plain": [
       "<Figure size 432x288 with 1 Axes>"
      ]
     },
     "metadata": {
      "needs_background": "light"
     },
     "output_type": "display_data"
    },
    {
     "data": {
      "image/png": "[encoded data removed]",
      "text/plain": [
       "<Figure size 432x288 with 1 Axes>"
      ]
     },
     "metadata": {
      "needs_background": "light"
     },
     "output_type": "display_data"
    },
    {
     "data": {
      "image/png": "[encoded data removed]",
      "text/plain": [
       "<Figure size 432x288 with 1 Axes>"
      ]
     },
     "metadata": {
      "needs_background": "light"
     },
     "output_type": "display_data"
    },
    {
     "data": {
      "image/png": "[encoded data removed]",
      "text/plain": [
       "<Figure size 432x288 with 1 Axes>"
      ]
     },
     "metadata": {
      "needs_background": "light"
     },
     "output_type": "display_data"
    },
    {
     "data": {
      "image/png": "[encoded data removed]",
      "text/plain": [
       "<Figure size 432x288 with 1 Axes>"
      ]
     },
     "metadata": {
      "needs_background": "light"
     },
     "output_type": "display_data"
    },
    {
     "data": {
      "image/png": "[encoded data removed]",
      "text/plain": [
       "<Figure size 432x288 with 1 Axes>"
      ]
     },
     "metadata": {
      "needs_background": "light"
     },
     "output_type": "display_data"
    },
    {
     "data": {
      "image/png": "[encoded data removed]",
      "text/plain": [
       "<Figure size 432x288 with 1 Axes>"
      ]
     },
     "metadata": {
      "needs_background": "light"
     },
     "output_type": "display_data"
    },
    {
     "data": {
      "image/png": "[encoded data removed]",
      "text/plain": [
       "<Figure size 432x288 with 1 Axes>"
      ]
     },
     "metadata": {
      "needs_background": "light"
     },
     "output_type": "display_data"
    }
   ],
   "source": [
    "show_some_images(x_colored,dims=10, n = 10)"
   ]
  },
  {
   "cell_type": "code",
   "execution_count": 17,
   "metadata": {},
   "outputs": [],
   "source": [
    "colored_mnist = []\n",
    "for x,y,c in zip(x_colored, y, color_strings):\n",
    "    \n",
    "    colored_mnist.append({\"x\": x, \"y\": y, \"color\": c})\n",
    "\n",
    "#with open(\"mnist.colored.dict.pickle\", \"wb\") as f:\n",
    "#    pickle.dump(colored_mnist, f)"
   ]
  },
  {
   "cell_type": "code",
   "execution_count": 18,
   "metadata": {},
   "outputs": [
    {
     "data": {
      "text/plain": [
       "' \\nmodel = MLPClassifier(verbose = True)\\nx_colored_flat = x_colored.reshape(x_colored.shape[0], 28*28*3)\\nmodel.fit(x_colored_flat[:60000], y[:60000])\\nprint(model.score(x_colored_flat[60000:], y[60000:]))\\n'"
      ]
     },
     "execution_count": 18,
     "metadata": {},
     "output_type": "execute_result"
    }
   ],
   "source": [
    "\"\"\" \n",
    "model = MLPClassifier(verbose = True)\n",
    "x_colored_flat = x_colored.reshape(x_colored.shape[0], 28*28*3)\n",
    "model.fit(x_colored_flat[:60000], y[:60000])\n",
    "print(model.score(x_colored_flat[60000:], y[60000:]))\n",
    "\"\"\""
   ]
  },
  {
   "cell_type": "code",
   "execution_count": 19,
   "metadata": {},
   "outputs": [],
   "source": [
    "class Dataset(torch.utils.data.Dataset):\n",
    "    \"\"\"Simple torch dataset class\"\"\"\n",
    "\n",
    "    def __init__(self, data: List[Dict], device = \"cpu\"):\n",
    "\n",
    "        self.data = data\n",
    "        self.device = device\n",
    "\n",
    "    def __len__(self):\n",
    "        return len(self.data)\n",
    "\n",
    "    def __getitem__(self, index):\n",
    "        with torch.no_grad():\n",
    "            \n",
    "            x,y,color = self.data[index][\"x\"], self.data[index][\"y\"], self.data[index][\"color\"]\n",
    "\n",
    "            return torch.tensor(x.reshape(-1)).float(), int(y), color"
   ]
  },
  {
   "cell_type": "code",
   "execution_count": 20,
   "metadata": {},
   "outputs": [],
   "source": [
    "train, dev = colored_mnist[:60000], colored_mnist[60000:]\n",
    "train_dataset, dev_dataset = Dataset(train), Dataset(dev)"
   ]
  },
  {
   "cell_type": "code",
   "execution_count": 21,
   "metadata": {},
   "outputs": [],
   "source": [
    "class MLP(pl.LightningModule):\n",
    "\n",
    "    def __init__(self, train_dataset: Dataset, dev_dataset: Dataset, batch_size, device: str):\n",
    "        \n",
    "        super().__init__()\n",
    "        \n",
    "        self.device = device\n",
    "        self.train_dataset = train_dataset\n",
    "        self.dev_dataset = dev_dataset\n",
    "\n",
    "        self.train_gen = torch.utils.data.DataLoader(self.train_dataset, batch_size=batch_size, drop_last=False, shuffle=True)\n",
    "        self.dev_gen = torch.utils.data.DataLoader(self.dev_dataset, batch_size=batch_size, drop_last=False, shuffle=True)\n",
    "        self.acc = None\n",
    "        \n",
    "        layers = [28*28*3, 256, 10]\n",
    "        net = []\n",
    "        \n",
    "        for i, (l1,l2) in enumerate(zip(layers, layers[1:])):\n",
    "            \n",
    "            net.append(nn.Linear(l1,l2))\n",
    "            if i != len(layers) - 2:\n",
    "             net.append(nn.ReLU())\n",
    "            \n",
    "        self.net = nn.Sequential(*net)\n",
    "        self.loss = torch.nn.CrossEntropyLoss()\n",
    "        \n",
    "    def forward(self, x):\n",
    "        \n",
    "        outputs = self.net(x)\n",
    "        return outputs\n",
    "    \n",
    "    def training_step(self, batch, batch_nb):\n",
    "        \n",
    "        x,y,c = batch\n",
    "        logits = self.forward(x)\n",
    "        \n",
    "        loss = self.loss(logits, y)\n",
    "        correct = logits.argmax(axis=1).int() == y.int()\n",
    "        acc = torch.sum(correct).float() / len(y)\n",
    "\n",
    "        return {'loss': loss, 'val_acc': acc}\n",
    "    \n",
    "    def validation_step(self, batch, batch_nb):\n",
    "        \n",
    "        x,y,c = batch\n",
    "        \n",
    "        logits = self.forward(x)\n",
    "        \n",
    "        loss = self.loss(logits, y)\n",
    "        correct = logits.argmax(axis=1).int() == y.int()\n",
    "        acc = torch.sum(correct).float() / len(y)\n",
    "\n",
    "        return {'val_loss': loss, 'val_acc': acc}\n",
    "    \n",
    "    def validation_end(self, outputs):\n",
    "        avg_loss = torch.stack([x['val_loss'] for x in outputs]).mean()\n",
    "        avg_acc = torch.stack([x['val_acc'] for x in outputs]).mean()\n",
    "        print(\"Loss is {}\".format(avg_loss))\n",
    "        print(\"Accuracy is {}\".format(avg_acc))\n",
    "        self.acc = avg_acc\n",
    "        return {'avg_val_loss': avg_loss}\n",
    "    \n",
    "    def configure_optimizers(self):\n",
    "        return torch.optim.SGD(self.parameters(), lr=0.005, momentum=0.9)\n",
    "        #return torch.optim.RMSprop(self.parameters(), lr = (1e-3)/2)\n",
    "        #return torch.optim.Adam(self.parameters(), lr = 1e-3)\n",
    "    \n",
    "    @pl.data_loader\n",
    "    def train_dataloader(self):\n",
    "        return self.train_gen\n",
    "\n",
    "    @pl.data_loader\n",
    "    def val_dataloader(self):\n",
    "        # OPTIONAL\n",
    "        # can also return a list of val dataloaders\n",
    "        return self.dev_gen"
   ]
  },
  {
   "cell_type": "code",
   "execution_count": 22,
   "metadata": {},
   "outputs": [],
   "source": [
    "mlp = MLP(train_dataset, dev_dataset, batch_size = 32, device = \"cpu\")"
   ]
  },
  {
   "cell_type": "code",
   "execution_count": 23,
   "metadata": {
    "scrolled": true
   },
   "outputs": [
    {
     "name": "stderr",
     "output_type": "stream",
     "text": [
      "Epoch 1:   2%|▏         | 33/2188 [00:00<00:27, 78.77batch/s, batch_nb=32, gpu=0, loss=2.277, v_nb=19]"
     ]
    },
    {
     "name": "stdout",
     "output_type": "stream",
     "text": [
      "Loss is 2.3075995445251465\n",
      "Accuracy is 0.08749999850988388\n"
     ]
    },
    {
     "name": "stderr",
     "output_type": "stream",
     "text": [
      "Epoch 1:  86%|████████▌ | 1875/2188 [00:07<00:01, 264.25batch/s, batch_nb=1874, gpu=0, loss=0.443, v_nb=19]\n",
      "Epoch 1:  88%|████████▊ | 1929/2188 [00:07<00:00, 318.24batch/s, batch_nb=1874, gpu=0, loss=0.443, v_nb=19]\n",
      "Epoch 1:  92%|█████████▏| 2004/2188 [00:07<00:00, 384.28batch/s, batch_nb=1874, gpu=0, loss=0.443, v_nb=19]\n",
      "Epoch 1:  95%|█████████▌| 2081/2188 [00:07<00:00, 451.32batch/s, batch_nb=1874, gpu=0, loss=0.443, v_nb=19]\n",
      "Epoch 1:  98%|█████████▊| 2155/2188 [00:07<00:00, 510.69batch/s, batch_nb=1874, gpu=0, loss=0.443, v_nb=19]\n",
      "Epoch 1: 100%|██████████| 2188/2188 [00:07<00:00, 510.69batch/s, batch_nb=1874, gpu=0, loss=0.443, v_nb=19]\n",
      "                                                                 \u001b[A/home/shauli/miniconda3/envs/py3/lib/python3.7/site-packages/pytorch_lightning/callbacks/pt_callbacks.py:250: RuntimeWarning: Can save best model only with val_loss available, skipping.\n",
      "  ' skipping.', RuntimeWarning)\n",
      "Epoch 2:   2%|▏         | 47/2188 [00:00<00:04, 510.69batch/s, batch_nb=46, gpu=0, loss=0.431, v_nb=19]    "
     ]
    },
    {
     "name": "stdout",
     "output_type": "stream",
     "text": [
      "Loss is 0.43242543935775757\n",
      "Accuracy is 0.8837859034538269\n"
     ]
    },
    {
     "name": "stderr",
     "output_type": "stream",
     "text": [
      "Epoch 2:  86%|████████▌ | 1875/2188 [00:07<00:01, 260.91batch/s, batch_nb=1874, gpu=0, loss=0.323, v_nb=19]\n",
      "Epoch 2:  88%|████████▊ | 1930/2188 [00:07<00:00, 314.49batch/s, batch_nb=1874, gpu=0, loss=0.323, v_nb=19]\n",
      "Epoch 2:  92%|█████████▏| 2005/2188 [00:07<00:00, 380.76batch/s, batch_nb=1874, gpu=0, loss=0.323, v_nb=19]\n",
      "Epoch 2:  95%|█████████▌| 2084/2188 [00:07<00:00, 450.05batch/s, batch_nb=1874, gpu=0, loss=0.323, v_nb=19]\n",
      "Epoch 2:  99%|█████████▉| 2164/2188 [00:07<00:00, 516.94batch/s, batch_nb=1874, gpu=0, loss=0.323, v_nb=19]\n",
      "Epoch 2: 100%|██████████| 2188/2188 [00:07<00:00, 516.94batch/s, batch_nb=1874, gpu=0, loss=0.323, v_nb=19]\n",
      "Epoch 3:   2%|▏         | 51/2188 [00:00<00:04, 516.94batch/s, batch_nb=50, gpu=0, loss=0.321, v_nb=19]    "
     ]
    },
    {
     "name": "stdout",
     "output_type": "stream",
     "text": [
      "Loss is 0.3619895577430725\n",
      "Accuracy is 0.9000598788261414\n"
     ]
    },
    {
     "name": "stderr",
     "output_type": "stream",
     "text": [
      "Epoch 3:  86%|████████▌ | 1875/2188 [00:07<00:01, 256.43batch/s, batch_nb=1874, gpu=0, loss=0.263, v_nb=19]\n",
      "Epoch 3:  88%|████████▊ | 1934/2188 [00:07<00:00, 312.44batch/s, batch_nb=1874, gpu=0, loss=0.263, v_nb=19]\n",
      "Epoch 3:  92%|█████████▏| 2011/2188 [00:07<00:00, 379.98batch/s, batch_nb=1874, gpu=0, loss=0.263, v_nb=19]\n",
      "Epoch 3:  96%|█████████▌| 2090/2188 [00:07<00:00, 449.13batch/s, batch_nb=1874, gpu=0, loss=0.263, v_nb=19]\n",
      "Epoch 3:  99%|█████████▉| 2168/2188 [00:07<00:00, 514.50batch/s, batch_nb=1874, gpu=0, loss=0.263, v_nb=19]\n",
      "Epoch 3: 100%|██████████| 2188/2188 [00:07<00:00, 514.50batch/s, batch_nb=1874, gpu=0, loss=0.263, v_nb=19]\n",
      "Epoch 4:   2%|▏         | 50/2188 [00:00<00:04, 514.50batch/s, batch_nb=49, gpu=0, loss=0.259, v_nb=19]    "
     ]
    },
    {
     "name": "stdout",
     "output_type": "stream",
     "text": [
      "Loss is 0.2945007085800171\n",
      "Accuracy is 0.9202276468276978\n"
     ]
    },
    {
     "name": "stderr",
     "output_type": "stream",
     "text": [
      "Epoch 4:  86%|████████▌ | 1875/2188 [00:07<00:01, 254.61batch/s, batch_nb=1874, gpu=0, loss=0.253, v_nb=19]\n",
      "Epoch 4:  87%|████████▋ | 1910/2188 [00:07<00:00, 295.84batch/s, batch_nb=1874, gpu=0, loss=0.253, v_nb=19]\n",
      "Epoch 4:  91%|█████████ | 1985/2188 [00:07<00:00, 361.39batch/s, batch_nb=1874, gpu=0, loss=0.253, v_nb=19]\n",
      "Epoch 4:  94%|█████████▍| 2063/2188 [00:07<00:00, 429.86batch/s, batch_nb=1874, gpu=0, loss=0.253, v_nb=19]\n",
      "Epoch 4:  98%|█████████▊| 2142/2188 [00:07<00:00, 496.94batch/s, batch_nb=1874, gpu=0, loss=0.253, v_nb=19]\n",
      "Epoch 4: 100%|██████████| 2188/2188 [00:07<00:00, 496.94batch/s, batch_nb=1874, gpu=0, loss=0.253, v_nb=19]\n",
      "Epoch 5:   2%|▏         | 46/2188 [00:00<00:04, 496.94batch/s, batch_nb=45, gpu=0, loss=0.229, v_nb=19]    "
     ]
    },
    {
     "name": "stdout",
     "output_type": "stream",
     "text": [
      "Loss is 0.2600804567337036\n",
      "Accuracy is 0.9287140369415283\n"
     ]
    },
    {
     "name": "stderr",
     "output_type": "stream",
     "text": [
      "Epoch 5:  86%|████████▌ | 1875/2188 [00:07<00:01, 244.41batch/s, batch_nb=1874, gpu=0, loss=0.204, v_nb=19]\n",
      "Epoch 5:  87%|████████▋ | 1907/2188 [00:07<00:00, 282.77batch/s, batch_nb=1874, gpu=0, loss=0.204, v_nb=19]\n",
      "Epoch 5:  91%|█████████ | 1984/2188 [00:07<00:00, 348.42batch/s, batch_nb=1874, gpu=0, loss=0.204, v_nb=19]\n",
      "Epoch 5:  94%|█████████▍| 2061/2188 [00:07<00:00, 416.89batch/s, batch_nb=1874, gpu=0, loss=0.204, v_nb=19]\n",
      "Epoch 5:  98%|█████████▊| 2140/2188 [00:07<00:00, 485.22batch/s, batch_nb=1874, gpu=0, loss=0.204, v_nb=19]\n",
      "Epoch 5: 100%|██████████| 2188/2188 [00:07<00:00, 485.22batch/s, batch_nb=1874, gpu=0, loss=0.204, v_nb=19]\n",
      "Epoch 6:   2%|▏         | 47/2188 [00:00<00:04, 485.22batch/s, batch_nb=46, gpu=0, loss=0.188, v_nb=19]    "
     ]
    },
    {
     "name": "stdout",
     "output_type": "stream",
     "text": [
      "Loss is 0.2474595606327057\n",
      "Accuracy is 0.9288138747215271\n"
     ]
    },
    {
     "name": "stderr",
     "output_type": "stream",
     "text": [
      "Epoch 6:  86%|████████▌ | 1875/2188 [00:07<00:01, 250.64batch/s, batch_nb=1874, gpu=0, loss=0.187, v_nb=19]\n",
      "Epoch 6:  88%|████████▊ | 1931/2188 [00:07<00:00, 304.67batch/s, batch_nb=1874, gpu=0, loss=0.187, v_nb=19]\n",
      "Epoch 6:  92%|█████████▏| 2008/2188 [00:07<00:00, 371.81batch/s, batch_nb=1874, gpu=0, loss=0.187, v_nb=19]\n",
      "Epoch 6:  95%|█████████▌| 2086/2188 [00:07<00:00, 440.53batch/s, batch_nb=1874, gpu=0, loss=0.187, v_nb=19]\n",
      "Epoch 6:  99%|█████████▉| 2164/2188 [00:08<00:00, 505.94batch/s, batch_nb=1874, gpu=0, loss=0.187, v_nb=19]\n",
      "Epoch 6: 100%|██████████| 2188/2188 [00:08<00:00, 505.94batch/s, batch_nb=1874, gpu=0, loss=0.187, v_nb=19]\n",
      "Epoch 7:   2%|▏         | 46/2188 [00:00<00:04, 505.94batch/s, batch_nb=45, gpu=0, loss=0.176, v_nb=19]    "
     ]
    },
    {
     "name": "stdout",
     "output_type": "stream",
     "text": [
      "Loss is 0.23088227212429047\n",
      "Accuracy is 0.9339057207107544\n"
     ]
    },
    {
     "name": "stderr",
     "output_type": "stream",
     "text": [
      "Epoch 7:  86%|████████▌ | 1875/2188 [00:07<00:01, 236.33batch/s, batch_nb=1874, gpu=0, loss=0.169, v_nb=19]\n",
      "Epoch 7:  86%|████████▋ | 1892/2188 [00:07<00:01, 259.87batch/s, batch_nb=1874, gpu=0, loss=0.169, v_nb=19]\n",
      "Epoch 7:  90%|████████▉ | 1966/2188 [00:07<00:00, 322.37batch/s, batch_nb=1874, gpu=0, loss=0.169, v_nb=19]\n",
      "Epoch 7:  93%|█████████▎| 2043/2188 [00:08<00:00, 389.73batch/s, batch_nb=1874, gpu=0, loss=0.169, v_nb=19]\n",
      "Epoch 7:  97%|█████████▋| 2120/2188 [00:08<00:00, 456.88batch/s, batch_nb=1874, gpu=0, loss=0.169, v_nb=19]\n",
      "Epoch 7: 100%|██████████| 2188/2188 [00:08<00:00, 456.88batch/s, batch_nb=1874, gpu=0, loss=0.169, v_nb=19]\n",
      "                                                                 \u001b[A/home/shauli/miniconda3/envs/py3/lib/python3.7/site-packages/pytorch_lightning/callbacks/pt_callbacks.py:128: RuntimeWarning: Early stopping conditioned on metric `val_loss` which is not available. Available metrics are: avg_val_loss\n",
      "  RuntimeWarning)\n",
      "Epoch 7: 100%|██████████| 2188/2188 [00:08<00:00, 264.53batch/s, batch_nb=1874, gpu=0, loss=0.169, v_nb=19]\n"
     ]
    },
    {
     "name": "stdout",
     "output_type": "stream",
     "text": [
      "Loss is 0.21535462141036987\n",
      "Accuracy is 0.9397963285446167\n"
     ]
    },
    {
     "data": {
      "text/plain": [
       "1"
      ]
     },
     "execution_count": 23,
     "metadata": {},
     "output_type": "execute_result"
    }
   ],
   "source": [
    "trainer = Trainer(max_nb_epochs=10,min_nb_epochs=5, gpus = 1)\n",
    "trainer.fit(mlp)"
   ]
  },
  {
   "cell_type": "code",
   "execution_count": null,
   "metadata": {},
   "outputs": [],
   "source": []
  }
 ],
 "metadata": {
  "kernelspec": {
   "display_name": "Python 3",
   "language": "python",
   "name": "python3"
  },
  "language_info": {
   "codemirror_mode": {
    "name": "ipython",
    "version": 3
   },
   "file_extension": ".py",
   "mimetype": "text/x-python",
   "name": "python",
   "nbconvert_exporter": "python",
   "pygments_lexer": "ipython3",
   "version": "3.7.5"
  }
 },
 "nbformat": 4,
 "nbformat_minor": 2
}
