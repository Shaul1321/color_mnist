{
 "cells": [
  {
   "cell_type": "code",
   "execution_count": 18,
   "metadata": {},
   "outputs": [],
   "source": [
    "from sklearn.datasets import fetch_openml\n",
    "from sklearn.utils import shuffle\n",
    "import matplotlib.pyplot as plt\n",
    "from matplotlib import colors as colors_lib\n",
    "import random\n",
    "import pickle\n",
    "import numpy as np\n",
    "from typing import List\n",
    "from sklearn.linear_model import SGDClassifier\n",
    "from sklearn.svm import SVC\n",
    "from sklearn.neural_network import MLPClassifier\n",
    "import pytorch_lightning as pl\n",
    "from pytorch_lightning import Trainer\n",
    "import torch\n",
    "from torch import nn\n",
    "from torch.utils.data import DataLoader\n",
    "from torch.utils.data import Dataset\n",
    "from typing import List, Dict"
   ]
  },
  {
   "cell_type": "code",
   "execution_count": 2,
   "metadata": {},
   "outputs": [],
   "source": [
    "mnist = fetch_openml('mnist_784')"
   ]
  },
  {
   "cell_type": "code",
   "execution_count": 3,
   "metadata": {},
   "outputs": [],
   "source": [
    "x,y = mnist.data, mnist.target\n",
    "x,y = shuffle(x,y)"
   ]
  },
  {
   "cell_type": "code",
   "execution_count": 4,
   "metadata": {},
   "outputs": [],
   "source": [
    "def show_some_images(images, n = 3, dims = 1):\n",
    "  \n",
    "  for index, image in enumerate(images[:n]):\n",
    "    if dims == 1:\n",
    "        plt.imshow(image.reshape(28,28),cmap='gray')\n",
    "    else:\n",
    "        plt.imshow(image.reshape(28,28,3))\n",
    "    plt.show()"
   ]
  },
  {
   "cell_type": "code",
   "execution_count": 5,
   "metadata": {},
   "outputs": [
    {
     "data": {
      "image/png": "[encoded data removed]",
      "text/plain": [
       "<Figure size 432x288 with 1 Axes>"
      ]
     },
     "metadata": {
      "needs_background": "light"
     },
     "output_type": "display_data"
    },
    {
     "data": {
      "image/png": "[encoded data removed]",
      "text/plain": [
       "<Figure size 432x288 with 1 Axes>"
      ]
     },
     "metadata": {
      "needs_background": "light"
     },
     "output_type": "display_data"
    },
    {
     "data": {
      "image/png": "[encoded data removed]",
      "text/plain": [
       "<Figure size 432x288 with 1 Axes>"
      ]
     },
     "metadata": {
      "needs_background": "light"
     },
     "output_type": "display_data"
    }
   ],
   "source": [
    "show_some_images(x)"
   ]
  },
  {
   "cell_type": "code",
   "execution_count": 6,
   "metadata": {},
   "outputs": [],
   "source": [
    "np.save(\"mnist_x.npy\", x)\n",
    "np.save(\"mnist_y.npy\", y)\n",
    "x_3d = np.stack([x,x,x])\n",
    "x_3d = np.swapaxes(x_3d, 0, 2)\n",
    "x_3d = np.swapaxes(x_3d, 0, 1)\n",
    "x_3d /= 255."
   ]
  },
  {
   "cell_type": "code",
   "execution_count": 7,
   "metadata": {},
   "outputs": [
    {
     "data": {
      "text/plain": [
       "(70000, 784, 3)"
      ]
     },
     "execution_count": 7,
     "metadata": {},
     "output_type": "execute_result"
    }
   ],
   "source": [
    "x_3d.shape"
   ]
  },
  {
   "cell_type": "code",
   "execution_count": 8,
   "metadata": {},
   "outputs": [],
   "source": [
    "def colorize(x, colors: List[str], threshold: float):\n",
    "    \n",
    "    x_copy = x.copy().reshape(x.shape[0], 28, 28, x.shape[-1])\n",
    "    x_colored = x_copy.copy()\n",
    "\n",
    "    color_strings = []\n",
    "    \n",
    "    for i,img in enumerate(x_colored):\n",
    "        color_str = random.choice(colors)\n",
    "        color_background_str = random.choice([x for x in colors if x != color_str])\n",
    "        #print(color_str, color_background_str)\n",
    "        \n",
    "        color = np.array(colors_lib.to_rgb(color_str))\n",
    "        color_background = np.array(colors_lib.to_rgb(color_background_str))\n",
    "        color_strings.append((color_str, color))\n",
    "\n",
    "        color_mask = np.zeros_like(x_colored[0])\n",
    "        color_mask[:, :] = color\n",
    "        idx = (img > threshold)[:,:,0]\n",
    "        x_colored[i][idx] = color*(1 - 0.6*x_colored[i][idx])\n",
    "\n",
    "        #idx_background = (img < threshold)[:,:,0]\n",
    "        #x_colored[i][idx_background] = color_background*(1 - 0.6*x_colored[i][idx_background])\n",
    "    return x_colored, color_strings"
   ]
  },
  {
   "cell_type": "code",
   "execution_count": 9,
   "metadata": {},
   "outputs": [],
   "source": [
    "colors = [\"blue\", \"red\", \"green\", \"yellow\", \"cyan\", \"orange\", \"purple\", \"lime\"]\n",
    "x_colored, color_strings = colorize(x_3d[:], colors = colors, threshold = 0.1)"
   ]
  },
  {
   "cell_type": "code",
   "execution_count": 10,
   "metadata": {},
   "outputs": [
    {
     "data": {
      "image/png": "[encoded data removed]",
      "text/plain": [
       "<Figure size 432x288 with 1 Axes>"
      ]
     },
     "metadata": {
      "needs_background": "light"
     },
     "output_type": "display_data"
    },
    {
     "data": {
      "image/png": "[encoded data removed]",
      "text/plain": [
       "<Figure size 432x288 with 1 Axes>"
      ]
     },
     "metadata": {
      "needs_background": "light"
     },
     "output_type": "display_data"
    },
    {
     "data": {
      "image/png": "[encoded data removed]",
      "text/plain": [
       "<Figure size 432x288 with 1 Axes>"
      ]
     },
     "metadata": {
      "needs_background": "light"
     },
     "output_type": "display_data"
    },
    {
     "data": {
      "image/png": "[encoded data removed]",
      "text/plain": [
       "<Figure size 432x288 with 1 Axes>"
      ]
     },
     "metadata": {
      "needs_background": "light"
     },
     "output_type": "display_data"
    },
    {
     "data": {
      "image/png": "[encoded data removed]",
      "text/plain": [
       "<Figure size 432x288 with 1 Axes>"
      ]
     },
     "metadata": {
      "needs_background": "light"
     },
     "output_type": "display_data"
    },
    {
     "data": {
      "image/png": "[encoded data removed]",
      "text/plain": [
       "<Figure size 432x288 with 1 Axes>"
      ]
     },
     "metadata": {
      "needs_background": "light"
     },
     "output_type": "display_data"
    },
    {
     "data": {
      "image/png": "[encoded data removed]",
      "text/plain": [
       "<Figure size 432x288 with 1 Axes>"
      ]
     },
     "metadata": {
      "needs_background": "light"
     },
     "output_type": "display_data"
    },
    {
     "data": {
      "image/png": "[encoded data removed]",
      "text/plain": [
       "<Figure size 432x288 with 1 Axes>"
      ]
     },
     "metadata": {
      "needs_background": "light"
     },
     "output_type": "display_data"
    },
    {
     "data": {
      "image/png": "[encoded data removed]",
      "text/plain": [
       "<Figure size 432x288 with 1 Axes>"
      ]
     },
     "metadata": {
      "needs_background": "light"
     },
     "output_type": "display_data"
    },
    {
     "data": {
      "image/png": "[encoded data removed]",
      "text/plain": [
       "<Figure size 432x288 with 1 Axes>"
      ]
     },
     "metadata": {
      "needs_background": "light"
     },
     "output_type": "display_data"
    },
    {
     "data": {
      "image/png": "[encoded data removed]",
      "text/plain": [
       "<Figure size 432x288 with 1 Axes>"
      ]
     },
     "metadata": {
      "needs_background": "light"
     },
     "output_type": "display_data"
    },
    {
     "data": {
      "image/png": "[encoded data removed]",
      "text/plain": [
       "<Figure size 432x288 with 1 Axes>"
      ]
     },
     "metadata": {
      "needs_background": "light"
     },
     "output_type": "display_data"
    },
    {
     "data": {
      "image/png": "[encoded data removed]",
      "text/plain": [
       "<Figure size 432x288 with 1 Axes>"
      ]
     },
     "metadata": {
      "needs_background": "light"
     },
     "output_type": "display_data"
    },
    {
     "data": {
      "image/png": "[encoded data removed]",
      "text/plain": [
       "<Figure size 432x288 with 1 Axes>"
      ]
     },
     "metadata": {
      "needs_background": "light"
     },
     "output_type": "display_data"
    },
    {
     "data": {
      "image/png": "[encoded data removed]",
      "text/plain": [
       "<Figure size 432x288 with 1 Axes>"
      ]
     },
     "metadata": {
      "needs_background": "light"
     },
     "output_type": "display_data"
    }
   ],
   "source": [
    "show_some_images(x_colored,dims=10, n = 15)"
   ]
  },
  {
   "cell_type": "code",
   "execution_count": 21,
   "metadata": {},
   "outputs": [],
   "source": [
    "colored_mnist = []\n",
    "for x,y,c in zip(x_colored, y, color_strings):\n",
    "    \n",
    "    colored_mnist.append({\"x\": x, \"y\": y, \"color\": c})\n",
    "\n",
    "with open(\"mnist.colored.dict.pickle\", \"wb\") as f:\n",
    "    pickle.dump(colored_mnist, f)"
   ]
  },
  {
   "cell_type": "code",
   "execution_count": 12,
   "metadata": {},
   "outputs": [
    {
     "data": {
      "text/plain": [
       "' \\nmodel = MLPClassifier(verbose = True)\\nx_colored_flat = x_colored.reshape(x_colored.shape[0], 28*28*3)\\nmodel.fit(x_colored_flat[:60000], y[:60000])\\nprint(model.score(x_colored_flat[60000:], y[60000:]))\\n'"
      ]
     },
     "execution_count": 12,
     "metadata": {},
     "output_type": "execute_result"
    }
   ],
   "source": [
    "\"\"\" \n",
    "model = MLPClassifier(verbose = True)\n",
    "x_colored_flat = x_colored.reshape(x_colored.shape[0], 28*28*3)\n",
    "model.fit(x_colored_flat[:60000], y[:60000])\n",
    "print(model.score(x_colored_flat[60000:], y[60000:]))\n",
    "\"\"\""
   ]
  },
  {
   "cell_type": "code",
   "execution_count": 55,
   "metadata": {},
   "outputs": [],
   "source": [
    "class Dataset(torch.utils.data.Dataset):\n",
    "    \"\"\"Simple torch dataset class\"\"\"\n",
    "\n",
    "    def __init__(self, data: List[Dict], device = \"cpu\"):\n",
    "\n",
    "        self.data = data\n",
    "        self.device = device\n",
    "\n",
    "    def __len__(self):\n",
    "        return len(self.data)\n",
    "\n",
    "    def __getitem__(self, index):\n",
    "        with torch.no_grad():\n",
    "            \n",
    "            x,y,color = self.data[index][\"x\"], self.data[index][\"y\"], self.data[index][\"color\"]\n",
    "\n",
    "            return torch.tensor(x.reshape(-1)).float(), int(y), color"
   ]
  },
  {
   "cell_type": "code",
   "execution_count": 56,
   "metadata": {},
   "outputs": [],
   "source": [
    "train, dev = colored_mnist[:60000], colored_mnist[60000:]\n",
    "train_dataset, dev_dataset = Dataset(train), Dataset(dev)"
   ]
  },
  {
   "cell_type": "code",
   "execution_count": 76,
   "metadata": {},
   "outputs": [],
   "source": [
    "class MLP(pl.LightningModule):\n",
    "\n",
    "    def __init__(self, train_dataset: Dataset, dev_dataset: Dataset, batch_size, device: str):\n",
    "        \n",
    "        super().__init__()\n",
    "        \n",
    "        self.device = device\n",
    "        self.train_dataset = train_dataset\n",
    "        self.dev_dataset = dev_dataset\n",
    "\n",
    "        self.train_gen = torch.utils.data.DataLoader(self.train_dataset, batch_size=batch_size, drop_last=False, shuffle=True)\n",
    "        self.dev_gen = torch.utils.data.DataLoader(self.dev_dataset, batch_size=batch_size, drop_last=False, shuffle=True)\n",
    "        self.acc = None\n",
    "        \n",
    "        layers = [28*28*3, 256, 10]\n",
    "        net = []\n",
    "        \n",
    "        for i, (l1,l2) in enumerate(zip(layers, layers[1:])):\n",
    "            \n",
    "            net.append(nn.Linear(l1,l2))\n",
    "            if i != len(layers) - 2:\n",
    "             net.append(nn.ReLU())\n",
    "            \n",
    "        self.net = nn.Sequential(*net)\n",
    "        self.loss = torch.nn.CrossEntropyLoss()\n",
    "        \n",
    "    def forward(self, x):\n",
    "        \n",
    "        outputs = self.net(x)\n",
    "        return outputs\n",
    "    \n",
    "    def training_step(self, batch, batch_nb):\n",
    "        \n",
    "        x,y,c = batch\n",
    "        logits = self.forward(x)\n",
    "        \n",
    "        loss = self.loss(logits, y)\n",
    "        correct = logits.argmax(axis=1).int() == y.int()\n",
    "        acc = torch.sum(correct).float() / len(y)\n",
    "\n",
    "        return {'loss': loss, 'val_acc': acc}\n",
    "    \n",
    "    def validation_step(self, batch, batch_nb):\n",
    "        \n",
    "        x,y,c = batch\n",
    "        \n",
    "        logits = self.forward(x)\n",
    "        \n",
    "        loss = self.loss(logits, y)\n",
    "        correct = logits.argmax(axis=1).int() == y.int()\n",
    "        acc = torch.sum(correct).float() / len(y)\n",
    "\n",
    "        return {'val_loss': loss, 'val_acc': acc}\n",
    "    \n",
    "    def validation_end(self, outputs):\n",
    "        avg_loss = torch.stack([x['val_loss'] for x in outputs]).mean()\n",
    "        avg_acc = torch.stack([x['val_acc'] for x in outputs]).mean()\n",
    "        print(\"Loss is {}\".format(avg_loss))\n",
    "        print(\"Accuracy is {}\".format(avg_acc))\n",
    "        self.acc = avg_acc\n",
    "        return {'avg_val_loss': avg_loss}\n",
    "    \n",
    "    def configure_optimizers(self):\n",
    "        return torch.optim.SGD(self.parameters(), lr=0.005, momentum=0.9)\n",
    "        #return torch.optim.RMSprop(self.parameters(), lr = (1e-3)/2)\n",
    "        #return torch.optim.Adam(self.parameters(), lr = 1e-3)\n",
    "    \n",
    "    @pl.data_loader\n",
    "    def train_dataloader(self):\n",
    "        return self.train_gen\n",
    "\n",
    "    @pl.data_loader\n",
    "    def val_dataloader(self):\n",
    "        # OPTIONAL\n",
    "        # can also return a list of val dataloaders\n",
    "        return self.dev_gen"
   ]
  },
  {
   "cell_type": "code",
   "execution_count": 86,
   "metadata": {},
   "outputs": [],
   "source": [
    "mlp = MLP(train_dataset, dev_dataset, batch_size = 32, device = \"cpu\")"
   ]
  },
  {
   "cell_type": "code",
   "execution_count": 87,
   "metadata": {
    "scrolled": true
   },
   "outputs": [
    {
     "name": "stderr",
     "output_type": "stream",
     "text": [
      "Epoch 1:   2%|▏         | 48/2188 [00:00<00:09, 223.37batch/s, batch_nb=47, gpu=0, loss=2.277, v_nb=17]"
     ]
    },
    {
     "name": "stdout",
     "output_type": "stream",
     "text": [
      "Loss is 2.3086888790130615\n",
      "Accuracy is 0.05625000223517418\n"
     ]
    },
    {
     "name": "stderr",
     "output_type": "stream",
     "text": [
      "Epoch 1:  86%|████████▌ | 1875/2188 [00:07<00:01, 240.33batch/s, batch_nb=1874, gpu=0, loss=0.432, v_nb=17]\n",
      "Epoch 1:  88%|████████▊ | 1932/2188 [00:07<00:00, 294.19batch/s, batch_nb=1874, gpu=0, loss=0.432, v_nb=17]\n",
      "Epoch 1:  92%|█████████▏| 2007/2188 [00:07<00:00, 359.57batch/s, batch_nb=1874, gpu=0, loss=0.432, v_nb=17]\n",
      "Epoch 1:  95%|█████████▌| 2083/2188 [00:07<00:00, 426.76batch/s, batch_nb=1874, gpu=0, loss=0.432, v_nb=17]\n",
      "Epoch 1:  99%|█████████▊| 2159/2188 [00:08<00:00, 491.10batch/s, batch_nb=1874, gpu=0, loss=0.432, v_nb=17]\n",
      "Epoch 1: 100%|██████████| 2188/2188 [00:08<00:00, 491.10batch/s, batch_nb=1874, gpu=0, loss=0.432, v_nb=17]\n",
      "Epoch 2:   2%|▏         | 47/2188 [00:00<00:04, 491.10batch/s, batch_nb=46, gpu=0, loss=0.402, v_nb=17]    "
     ]
    },
    {
     "name": "stdout",
     "output_type": "stream",
     "text": [
      "Loss is 0.44936636090278625\n",
      "Accuracy is 0.8787938952445984\n"
     ]
    },
    {
     "name": "stderr",
     "output_type": "stream",
     "text": [
      "Epoch 2:  86%|████████▌ | 1875/2188 [00:07<00:01, 251.40batch/s, batch_nb=1874, gpu=0, loss=0.356, v_nb=17]\n",
      "Epoch 2:  88%|████████▊ | 1919/2188 [00:07<00:00, 299.14batch/s, batch_nb=1874, gpu=0, loss=0.356, v_nb=17]\n",
      "Epoch 2:  91%|█████████ | 1991/2188 [00:07<00:00, 361.96batch/s, batch_nb=1874, gpu=0, loss=0.356, v_nb=17]\n",
      "Epoch 2:  94%|█████████▍| 2063/2188 [00:07<00:00, 424.51batch/s, batch_nb=1874, gpu=0, loss=0.356, v_nb=17]\n",
      "Epoch 2:  98%|█████████▊| 2137/2188 [00:07<00:00, 485.44batch/s, batch_nb=1874, gpu=0, loss=0.356, v_nb=17]\n",
      "Epoch 2: 100%|██████████| 2188/2188 [00:07<00:00, 485.44batch/s, batch_nb=1874, gpu=0, loss=0.356, v_nb=17]\n",
      "Epoch 3:   2%|▏         | 44/2188 [00:00<00:04, 485.44batch/s, batch_nb=43, gpu=0, loss=0.358, v_nb=17]    "
     ]
    },
    {
     "name": "stdout",
     "output_type": "stream",
     "text": [
      "Loss is 0.3734307885169983\n",
      "Accuracy is 0.8984624147415161\n"
     ]
    },
    {
     "name": "stderr",
     "output_type": "stream",
     "text": [
      "Epoch 3:  86%|████████▌ | 1875/2188 [00:07<00:01, 252.63batch/s, batch_nb=1874, gpu=0, loss=0.303, v_nb=17]\n",
      "Epoch 3:  87%|████████▋ | 1911/2188 [00:07<00:00, 294.94batch/s, batch_nb=1874, gpu=0, loss=0.303, v_nb=17]\n",
      "Epoch 3:  91%|█████████ | 1985/2188 [00:07<00:00, 359.59batch/s, batch_nb=1874, gpu=0, loss=0.303, v_nb=17]\n",
      "Epoch 3:  94%|█████████▍| 2057/2188 [00:07<00:00, 422.47batch/s, batch_nb=1874, gpu=0, loss=0.303, v_nb=17]\n",
      "Epoch 3:  97%|█████████▋| 2131/2188 [00:07<00:00, 484.26batch/s, batch_nb=1874, gpu=0, loss=0.303, v_nb=17]\n",
      "Epoch 3: 100%|██████████| 2188/2188 [00:07<00:00, 484.26batch/s, batch_nb=1874, gpu=0, loss=0.303, v_nb=17]\n",
      "Epoch 4:   2%|▏         | 47/2188 [00:00<00:04, 484.26batch/s, batch_nb=46, gpu=0, loss=0.294, v_nb=17]    "
     ]
    },
    {
     "name": "stdout",
     "output_type": "stream",
     "text": [
      "Loss is 0.32393649220466614\n",
      "Accuracy is 0.9111421704292297\n"
     ]
    },
    {
     "name": "stderr",
     "output_type": "stream",
     "text": [
      "Epoch 4:  86%|████████▌ | 1875/2188 [00:08<00:01, 220.94batch/s, batch_nb=1874, gpu=0, loss=0.242, v_nb=17]\n",
      "Epoch 4:  87%|████████▋ | 1908/2188 [00:08<00:01, 259.53batch/s, batch_nb=1874, gpu=0, loss=0.242, v_nb=17]\n",
      "Epoch 4:  91%|█████████ | 1983/2188 [00:08<00:00, 322.75batch/s, batch_nb=1874, gpu=0, loss=0.242, v_nb=17]\n",
      "Epoch 4:  94%|█████████▍| 2061/2188 [00:08<00:00, 390.94batch/s, batch_nb=1874, gpu=0, loss=0.242, v_nb=17]\n",
      "Epoch 4:  98%|█████████▊| 2134/2188 [00:08<00:00, 454.15batch/s, batch_nb=1874, gpu=0, loss=0.242, v_nb=17]\n",
      "Epoch 4: 100%|██████████| 2188/2188 [00:08<00:00, 454.15batch/s, batch_nb=1874, gpu=0, loss=0.242, v_nb=17]\n",
      "Epoch 5:   2%|▏         | 47/2188 [00:00<00:04, 454.15batch/s, batch_nb=46, gpu=0, loss=0.240, v_nb=17]    "
     ]
    },
    {
     "name": "stdout",
     "output_type": "stream",
     "text": [
      "Loss is 0.29130983352661133\n",
      "Accuracy is 0.9192292094230652\n"
     ]
    },
    {
     "name": "stderr",
     "output_type": "stream",
     "text": [
      "Epoch 5:  86%|████████▌ | 1875/2188 [00:08<00:01, 217.41batch/s, batch_nb=1874, gpu=0, loss=0.205, v_nb=17]\n",
      "Epoch 5:  88%|████████▊ | 1936/2188 [00:08<00:00, 270.86batch/s, batch_nb=1874, gpu=0, loss=0.205, v_nb=17]\n",
      "Epoch 5:  92%|█████████▏| 2010/2188 [00:08<00:00, 334.03batch/s, batch_nb=1874, gpu=0, loss=0.205, v_nb=17]\n",
      "Epoch 5:  95%|█████████▌| 2084/2188 [00:08<00:00, 398.81batch/s, batch_nb=1874, gpu=0, loss=0.205, v_nb=17]\n",
      "Epoch 5:  99%|█████████▊| 2159/2188 [00:08<00:00, 463.97batch/s, batch_nb=1874, gpu=0, loss=0.205, v_nb=17]\n",
      "Epoch 5: 100%|██████████| 2188/2188 [00:08<00:00, 463.97batch/s, batch_nb=1874, gpu=0, loss=0.205, v_nb=17]\n",
      "Epoch 6:   2%|▏         | 44/2188 [00:00<00:04, 463.97batch/s, batch_nb=43, gpu=0, loss=0.188, v_nb=17]    "
     ]
    },
    {
     "name": "stdout",
     "output_type": "stream",
     "text": [
      "Loss is 0.26973623037338257\n",
      "Accuracy is 0.9243210554122925\n"
     ]
    },
    {
     "name": "stderr",
     "output_type": "stream",
     "text": [
      "Epoch 6:  86%|████████▌ | 1875/2188 [00:08<00:01, 234.39batch/s, batch_nb=1874, gpu=0, loss=0.196, v_nb=17]\n",
      "Epoch 6:  89%|████████▉ | 1943/2188 [00:08<00:00, 292.14batch/s, batch_nb=1874, gpu=0, loss=0.196, v_nb=17]\n",
      "Epoch 6:  92%|█████████▏| 2016/2188 [00:08<00:00, 355.87batch/s, batch_nb=1874, gpu=0, loss=0.196, v_nb=17]\n",
      "Epoch 6:  96%|█████████▌| 2091/2188 [00:08<00:00, 421.86batch/s, batch_nb=1874, gpu=0, loss=0.196, v_nb=17]\n",
      "Epoch 6:  99%|█████████▉| 2167/2188 [00:08<00:00, 485.96batch/s, batch_nb=1874, gpu=0, loss=0.196, v_nb=17]\n",
      "Epoch 6: 100%|██████████| 2188/2188 [00:08<00:00, 485.96batch/s, batch_nb=1874, gpu=0, loss=0.196, v_nb=17]\n",
      "Epoch 7:   2%|▏         | 43/2188 [00:00<00:04, 485.96batch/s, batch_nb=42, gpu=0, loss=0.209, v_nb=17]    "
     ]
    },
    {
     "name": "stdout",
     "output_type": "stream",
     "text": [
      "Loss is 0.2495558261871338\n",
      "Accuracy is 0.9290135502815247\n"
     ]
    },
    {
     "name": "stderr",
     "output_type": "stream",
     "text": [
      "Epoch 7:  86%|████████▌ | 1875/2188 [00:08<00:01, 223.58batch/s, batch_nb=1874, gpu=0, loss=0.159, v_nb=17]\n",
      "Epoch 7:  89%|████████▊ | 1940/2188 [00:08<00:00, 279.80batch/s, batch_nb=1874, gpu=0, loss=0.159, v_nb=17]\n",
      "Epoch 7:  92%|█████████▏| 2010/2188 [00:08<00:00, 341.03batch/s, batch_nb=1874, gpu=0, loss=0.159, v_nb=17]\n",
      "Epoch 7:  95%|█████████▌| 2082/2188 [00:08<00:00, 404.97batch/s, batch_nb=1874, gpu=0, loss=0.159, v_nb=17]\n",
      "Epoch 7:  98%|█████████▊| 2151/2188 [00:08<00:00, 461.16batch/s, batch_nb=1874, gpu=0, loss=0.159, v_nb=17]\n",
      "Epoch 7: 100%|██████████| 2188/2188 [00:08<00:00, 461.16batch/s, batch_nb=1874, gpu=0, loss=0.159, v_nb=17]\n",
      "Epoch 7: 100%|██████████| 2188/2188 [00:08<00:00, 244.48batch/s, batch_nb=1874, gpu=0, loss=0.159, v_nb=17]"
     ]
    },
    {
     "name": "stdout",
     "output_type": "stream",
     "text": [
      "Loss is 0.23942478001117706\n",
      "Accuracy is 0.9316093921661377\n"
     ]
    },
    {
     "name": "stderr",
     "output_type": "stream",
     "text": [
      "\n"
     ]
    },
    {
     "data": {
      "text/plain": [
       "1"
      ]
     },
     "execution_count": 87,
     "metadata": {},
     "output_type": "execute_result"
    }
   ],
   "source": [
    "trainer = Trainer(max_nb_epochs=10,min_nb_epochs=5, gpus = 1)\n",
    "trainer.fit(mlp)"
   ]
  },
  {
   "cell_type": "code",
   "execution_count": null,
   "metadata": {},
   "outputs": [],
   "source": []
  }
 ],
 "metadata": {
  "kernelspec": {
   "display_name": "Python 3",
   "language": "python",
   "name": "python3"
  },
  "language_info": {
   "codemirror_mode": {
    "name": "ipython",
    "version": 3
   },
   "file_extension": ".py",
   "mimetype": "text/x-python",
   "name": "python",
   "nbconvert_exporter": "python",
   "pygments_lexer": "ipython3",
   "version": "3.7.5"
  }
 },
 "nbformat": 4,
 "nbformat_minor": 2
}
